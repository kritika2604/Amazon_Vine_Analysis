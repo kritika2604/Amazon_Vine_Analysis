{
  "nbformat": 4,
  "nbformat_minor": 0,
  "metadata": {
    "colab": {
      "name": "Vine_Review_Analysis.ipynb",
      "provenance": [],
      "collapsed_sections": []
    },
    "kernelspec": {
      "name": "python3",
      "display_name": "Python 3"
    },
    "language_info": {
      "name": "python"
    }
  },
  "cells": [
    {
      "cell_type": "code",
      "execution_count": 1,
      "metadata": {
        "colab": {
          "base_uri": "https://localhost:8080/"
        },
        "id": "vEy0EQBd0yyk",
        "outputId": "680813a6-2c98-4d49-bacf-526e28780f43"
      },
      "outputs": [
        {
          "output_type": "stream",
          "name": "stdout",
          "text": [
            "\r0% [Working]\r            \rGet:1 http://security.ubuntu.com/ubuntu bionic-security InRelease [88.7 kB]\n",
            "\r0% [Waiting for headers] [1 InRelease 14.2 kB/88.7 kB 16%] [Connecting to cloud\r                                                                               \rHit:2 http://archive.ubuntu.com/ubuntu bionic InRelease\n",
            "\r0% [Waiting for headers] [1 InRelease 65.2 kB/88.7 kB 74%] [Connecting to cloud\r                                                                               \rGet:3 http://archive.ubuntu.com/ubuntu bionic-updates InRelease [88.7 kB]\n",
            "\r0% [3 InRelease 15.6 kB/88.7 kB 18%] [1 InRelease 65.2 kB/88.7 kB 74%] [Connect\r0% [2 InRelease gpgv 242 kB] [3 InRelease 15.6 kB/88.7 kB 18%] [1 InRelease 66.\r                                                                               \rIgn:4 https://developer.download.nvidia.com/compute/cuda/repos/ubuntu1804/x86_64  InRelease\n",
            "Get:5 http://ppa.launchpad.net/c2d4u.team/c2d4u4.0+/ubuntu bionic InRelease [15.9 kB]\n",
            "Ign:6 https://developer.download.nvidia.com/compute/machine-learning/repos/ubuntu1804/x86_64  InRelease\n",
            "Get:7 http://archive.ubuntu.com/ubuntu bionic-backports InRelease [74.6 kB]\n",
            "Get:8 https://developer.download.nvidia.com/compute/cuda/repos/ubuntu1804/x86_64  Release [696 B]\n",
            "Hit:9 https://developer.download.nvidia.com/compute/machine-learning/repos/ubuntu1804/x86_64  Release\n",
            "Get:10 https://developer.download.nvidia.com/compute/cuda/repos/ubuntu1804/x86_64  Release.gpg [836 B]\n",
            "Get:11 https://cloud.r-project.org/bin/linux/ubuntu bionic-cran40/ InRelease [3,626 B]\n",
            "Hit:12 http://ppa.launchpad.net/cran/libgit2/ubuntu bionic InRelease\n",
            "Get:13 http://ppa.launchpad.net/deadsnakes/ppa/ubuntu bionic InRelease [15.9 kB]\n",
            "Hit:14 http://ppa.launchpad.net/graphics-drivers/ppa/ubuntu bionic InRelease\n",
            "Get:15 http://security.ubuntu.com/ubuntu bionic-security/universe amd64 Packages [1,494 kB]\n",
            "Get:16 http://security.ubuntu.com/ubuntu bionic-security/main amd64 Packages [2,725 kB]\n",
            "Get:17 http://security.ubuntu.com/ubuntu bionic-security/restricted amd64 Packages [907 kB]\n",
            "Get:18 http://archive.ubuntu.com/ubuntu bionic-updates/universe amd64 Packages [2,272 kB]\n",
            "Get:19 http://archive.ubuntu.com/ubuntu bionic-updates/restricted amd64 Packages [941 kB]\n",
            "Get:20 http://archive.ubuntu.com/ubuntu bionic-updates/main amd64 Packages [3,165 kB]\n",
            "Get:22 https://developer.download.nvidia.com/compute/cuda/repos/ubuntu1804/x86_64  Packages [953 kB]\n",
            "Get:23 http://ppa.launchpad.net/c2d4u.team/c2d4u4.0+/ubuntu bionic/main Sources [1,947 kB]\n",
            "Get:24 http://ppa.launchpad.net/c2d4u.team/c2d4u4.0+/ubuntu bionic/main amd64 Packages [996 kB]\n",
            "Get:25 http://ppa.launchpad.net/deadsnakes/ppa/ubuntu bionic/main amd64 Packages [45.3 kB]\n",
            "Fetched 15.7 MB in 7s (2,235 kB/s)\n",
            "Reading package lists... Done\n"
          ]
        }
      ],
      "source": [
        "import os\n",
        "# Find the latest version of spark 3.0 from http://www.apache.org/dist/spark/ and enter as the spark version\n",
        "# For example:\n",
        "# spark_version = 'spark-3.0.3'\n",
        "spark_version = 'spark-3.0.3'\n",
        "os.environ['SPARK_VERSION']=spark_version\n",
        "\n",
        "# Install Spark and Java\n",
        "!apt-get update\n",
        "!apt-get install openjdk-11-jdk-headless -qq > /dev/null\n",
        "!wget -q http://www.apache.org/dist/spark/$SPARK_VERSION/$SPARK_VERSION-bin-hadoop2.7.tgz\n",
        "!tar xf $SPARK_VERSION-bin-hadoop2.7.tgz\n",
        "!pip install -q findspark\n",
        "\n",
        "# Set Environment Variables\n",
        "import os\n",
        "os.environ[\"JAVA_HOME\"] = \"/usr/lib/jvm/java-11-openjdk-amd64\"\n",
        "os.environ[\"SPARK_HOME\"] = f\"/content/{spark_version}-bin-hadoop2.7\"\n",
        "\n",
        "# Start a SparkSession\n",
        "import findspark\n",
        "findspark.init()"
      ]
    },
    {
      "cell_type": "code",
      "source": [
        "# Download the Postgres driver that will allow Spark to interact with Postgres.\n",
        "!wget https://jdbc.postgresql.org/download/postgresql-42.2.16.jar"
      ],
      "metadata": {
        "colab": {
          "base_uri": "https://localhost:8080/"
        },
        "id": "hJQlCrbR1vaw",
        "outputId": "02ad769f-bf5b-4867-e690-326659cb8cad"
      },
      "execution_count": 2,
      "outputs": [
        {
          "output_type": "stream",
          "name": "stdout",
          "text": [
            "--2022-04-20 02:39:45--  https://jdbc.postgresql.org/download/postgresql-42.2.16.jar\n",
            "Resolving jdbc.postgresql.org (jdbc.postgresql.org)... 72.32.157.228, 2001:4800:3e1:1::228\n",
            "Connecting to jdbc.postgresql.org (jdbc.postgresql.org)|72.32.157.228|:443... connected.\n",
            "HTTP request sent, awaiting response... 200 OK\n",
            "Length: 1002883 (979K) [application/java-archive]\n",
            "Saving to: ‘postgresql-42.2.16.jar’\n",
            "\n",
            "postgresql-42.2.16. 100%[===================>] 979.38K  --.-KB/s    in 0.1s    \n",
            "\n",
            "2022-04-20 02:39:45 (6.56 MB/s) - ‘postgresql-42.2.16.jar’ saved [1002883/1002883]\n",
            "\n"
          ]
        }
      ]
    },
    {
      "cell_type": "code",
      "source": [
        "from pyspark.sql import SparkSession\n",
        "spark = SparkSession.builder.appName(\"M16-Amazon-Challenge\").config(\"spark.driver.extraClassPath\",\"/content/postgresql-42.2.16.jar\").getOrCreate()"
      ],
      "metadata": {
        "id": "Maqy3Bjb1vd5"
      },
      "execution_count": 3,
      "outputs": []
    },
    {
      "cell_type": "code",
      "source": [
        "from pyspark import SparkFiles\n",
        "url = \"https://s3.amazonaws.com/amazon-reviews-pds/tsv/amazon_reviews_us_Lawn_and_Garden_v1_00.tsv.gz\"\n",
        "spark.sparkContext.addFile(url)\n",
        "raw_df = spark.read.option(\"encoding\", \"UTF-8\").csv(SparkFiles.get(\"amazon_reviews_us_Lawn_and_Garden_v1_00.tsv.gz\"), sep=\"\\t\", header=True, inferSchema=True)\n",
        "raw_df.show()"
      ],
      "metadata": {
        "colab": {
          "base_uri": "https://localhost:8080/"
        },
        "id": "XC0P8ija1vg0",
        "outputId": "9febb6e8-2b3d-4ba4-a8bd-00874d1eda17"
      },
      "execution_count": 68,
      "outputs": [
        {
          "output_type": "stream",
          "name": "stdout",
          "text": [
            "+-----------+-----------+--------------+----------+--------------+--------------------+----------------+-----------+-------------+-----------+----+-----------------+--------------------+--------------------+-----------+\n",
            "|marketplace|customer_id|     review_id|product_id|product_parent|       product_title|product_category|star_rating|helpful_votes|total_votes|vine|verified_purchase|     review_headline|         review_body|review_date|\n",
            "+-----------+-----------+--------------+----------+--------------+--------------------+----------------+-----------+-------------+-----------+----+-----------------+--------------------+--------------------+-----------+\n",
            "|         US|   32787517| RED72VWWCOS7S|B008HDQYLQ|     348668413|Garden Weasel Gar...| Lawn and Garden|          1|            2|          8|   N|                Y|            One Star|I don't hate the ...| 2015-08-31|\n",
            "|         US|   16374060| RZHWQ208LTEPV|B005OBZBD6|     264704759|10 Foot Mc4 Solar...| Lawn and Garden|          5|            0|          0|   N|                Y|          Five Stars|        worked great| 2015-08-31|\n",
            "|         US|    9984817|R37LBC3XAVLYOO|B00RQL8U2G|      95173602|GE String A Long ...| Lawn and Garden|          5|            4|          5|   N|                Y|just what i neede...|just what i neede...| 2015-08-31|\n",
            "|         US|   12635190|R3L7XJMA0MVJWC|B0081SBO4Y|     835659279|Key Pair Lawn Wit...| Lawn and Garden|          5|            0|          0|   N|                Y|                Keys|Needed replacemen...| 2015-08-31|\n",
            "|         US|   43905102|R2I2GHSI7T1UBN|B008E6OK3U|     539243347|Zodiac R0502300 L...| Lawn and Garden|          1|            5|          6|   N|                Y|       Too expensive|Assuming you don'...| 2015-08-31|\n",
            "|         US|   52596997|R2GFFKHK4I6VMX|B00W6NTULY|     337446474|Hirts Gardens Swe...| Lawn and Garden|          5|            0|          0|   N|                Y|                Nice|Beautifully packa...| 2015-08-31|\n",
            "|         US|   43871104|R1R0UDX2XAN1S4|B00GXUMYKA|     468857193|AGPtEK 12 PCS Smo...| Lawn and Garden|          4|            0|          0|   N|                Y|These were pretty...|These were pretty...| 2015-08-31|\n",
            "|         US|   11346008|R22C8FMBSTFRY8|B005EIX8JS|     125753094|Design Toscano Ea...| Lawn and Garden|          5|            2|          2|   N|                Y|Kids love it. WIs...|Its in the center...| 2015-08-31|\n",
            "|         US|   49206471|R118NNIQ75XPGO|B000HJBKMQ|     834273114|TERRO T300 Liquid...| Lawn and Garden|          3|            0|          0|   N|                Y|      A little messy|The ants were att...| 2015-08-31|\n",
            "|         US|   37596267|R30HYXHZQ49621|B004LY59V6|     612086079|BLACK+DECKER LBXR...| Lawn and Garden|          2|            0|          0|   N|                Y|Does not hold a c...|This is advertise...| 2015-08-31|\n",
            "|         US|   31554283|R3EMLKY0GF1E90|B00CAVM85M|     280334010|Reach 'n Spray Pe...| Lawn and Garden|          5|            0|          0|   N|                Y|          Five Stars|Well made product...| 2015-08-31|\n",
            "|         US|   43211735|R23BX7EGJMGQJR|B00DP6X1LG|     233116679|Puro-Kleen Ultra-...| Lawn and Garden|          5|            1|          2|   N|                Y|It's easy to cut ...|I used this for a...| 2015-08-31|\n",
            "|         US|   25705116|R2Z4B6SDEAZF6E|B00025H2PY|     592807498|Diatomaceous Eart...| Lawn and Garden|          5|            0|          0|   N|                Y|          Five Stars|Great stuff. Gets...| 2015-08-31|\n",
            "|         US|   47041108|R35289PGJERP5J|B0079GHJXY|     408290044|Perky-Pet 312C Pa...| Lawn and Garden|          5|            0|          0|   N|                Y|          Five Stars|   Very good quality| 2015-08-31|\n",
            "|         US|    1534667|R39BPRMDKKIZL2|B004HFJ762|     404737140|Crossbow Dow Spec...| Lawn and Garden|          1|            4|          6|   N|                Y|Wrong Product- No...|This product was ...| 2015-08-31|\n",
            "|         US|   52287759| R6WFPPBS1DZMG|B00004RAGL|     773636542|Apex REM 15 15-Fo...| Lawn and Garden|          5|            0|          0|   N|                Y|dehumidifier drai...|the hose worked w...| 2015-08-31|\n",
            "|         US|   37010286| RK72M0ZBV9YLS|B010PWBNNK|     461072629|Elucto Electric B...| Lawn and Garden|          1|            3|          3|   N|                Y|   not easy it seems|I haven't killed ...| 2015-08-31|\n",
            "|         US|   30576559| RX5G150AUWRDJ|B00T77AWY6|     365662076|Ohuhu® 100 Ft Exp...| Lawn and Garden|          1|            0|          0|   N|                Y|          Five Stars|I m very disappoi...| 2015-08-31|\n",
            "|         US|   10291713|R1TMSZWIT21A31|B000UJH6HQ|     228393894|Toro 53746 Drip B...| Lawn and Garden|          3|            1|          2|   N|                Y|     Could be better|this is the fourt...| 2015-08-31|\n",
            "|         US|   50656780|R2FURVPW763CIM|B000HJBKMQ|     834273114|TERRO T300 Liquid...| Lawn and Garden|          5|            0|          0|   N|                Y|Sugar Ants are ho...|Best thing you ca...| 2015-08-31|\n",
            "+-----------+-----------+--------------+----------+--------------+--------------------+----------------+-----------+-------------+-----------+----+-----------------+--------------------+--------------------+-----------+\n",
            "only showing top 20 rows\n",
            "\n"
          ]
        }
      ]
    },
    {
      "cell_type": "code",
      "source": [
        "#Recreating the vine table \n",
        "vine_df = raw_df.select(\"review_id\",\"star_rating\",\"helpful_votes\",\"total_votes\",\"vine\",\"verified_purchase\")\n",
        "vine_df.show()"
      ],
      "metadata": {
        "colab": {
          "base_uri": "https://localhost:8080/"
        },
        "id": "veostwnZTMx1",
        "outputId": "6acd88f5-e191-4042-8687-2d8b055847d2"
      },
      "execution_count": 71,
      "outputs": [
        {
          "output_type": "stream",
          "name": "stdout",
          "text": [
            "+--------------+-----------+-------------+-----------+----+-----------------+\n",
            "|     review_id|star_rating|helpful_votes|total_votes|vine|verified_purchase|\n",
            "+--------------+-----------+-------------+-----------+----+-----------------+\n",
            "| RED72VWWCOS7S|          1|            2|          8|   N|                Y|\n",
            "| RZHWQ208LTEPV|          5|            0|          0|   N|                Y|\n",
            "|R37LBC3XAVLYOO|          5|            4|          5|   N|                Y|\n",
            "|R3L7XJMA0MVJWC|          5|            0|          0|   N|                Y|\n",
            "|R2I2GHSI7T1UBN|          1|            5|          6|   N|                Y|\n",
            "|R2GFFKHK4I6VMX|          5|            0|          0|   N|                Y|\n",
            "|R1R0UDX2XAN1S4|          4|            0|          0|   N|                Y|\n",
            "|R22C8FMBSTFRY8|          5|            2|          2|   N|                Y|\n",
            "|R118NNIQ75XPGO|          3|            0|          0|   N|                Y|\n",
            "|R30HYXHZQ49621|          2|            0|          0|   N|                Y|\n",
            "|R3EMLKY0GF1E90|          5|            0|          0|   N|                Y|\n",
            "|R23BX7EGJMGQJR|          5|            1|          2|   N|                Y|\n",
            "|R2Z4B6SDEAZF6E|          5|            0|          0|   N|                Y|\n",
            "|R35289PGJERP5J|          5|            0|          0|   N|                Y|\n",
            "|R39BPRMDKKIZL2|          1|            4|          6|   N|                Y|\n",
            "| R6WFPPBS1DZMG|          5|            0|          0|   N|                Y|\n",
            "| RK72M0ZBV9YLS|          1|            3|          3|   N|                Y|\n",
            "| RX5G150AUWRDJ|          1|            0|          0|   N|                Y|\n",
            "|R1TMSZWIT21A31|          3|            1|          2|   N|                Y|\n",
            "|R2FURVPW763CIM|          5|            0|          0|   N|                Y|\n",
            "+--------------+-----------+-------------+-----------+----+-----------------+\n",
            "only showing top 20 rows\n",
            "\n"
          ]
        }
      ]
    },
    {
      "cell_type": "code",
      "source": [
        "#Filter the data \n",
        "#to retrieve all the rows where the total_votes count is equal to or greater than 20 to pick reviews \n",
        "#that are more likely to be helpful and to avoid having division by zero errors later on.\n",
        "df_new_1 = vine_df.filter(vine_df.total_votes>= 20)\n",
        "df_new_1.show()"
      ],
      "metadata": {
        "colab": {
          "base_uri": "https://localhost:8080/"
        },
        "id": "vPAjZHrr1vjt",
        "outputId": "e44a6266-8d11-4d70-e0ab-96e0e137cbaf"
      },
      "execution_count": 74,
      "outputs": [
        {
          "output_type": "stream",
          "name": "stdout",
          "text": [
            "+--------------+-----------+-------------+-----------+----+-----------------+\n",
            "|     review_id|star_rating|helpful_votes|total_votes|vine|verified_purchase|\n",
            "+--------------+-----------+-------------+-----------+----+-----------------+\n",
            "| RQQ3KVTU5TJ4I|          5|           24|         29|   N|                Y|\n",
            "|R3FELXWV9T5CWE|          2|           22|         24|   N|                Y|\n",
            "| ROBYK6EZYK398|          5|           29|         30|   N|                Y|\n",
            "|R2RKCSAG6GBA4A|          1|            8|         28|   N|                Y|\n",
            "|R2YVBBR6NXIA4V|          5|           25|         28|   N|                N|\n",
            "|R2AVTBDIVG2AW4|          5|           26|         26|   N|                N|\n",
            "|R1Z2LNN3FANMTO|          1|           20|         24|   N|                N|\n",
            "|  RLNULBKRWNNR|          5|           42|         43|   N|                Y|\n",
            "| R9QNQUL94RX1F|          3|           27|         33|   N|                Y|\n",
            "| RTULFZTUS1VBP|          5|           51|         52|   N|                Y|\n",
            "|R1BM9RBQWI62O2|          5|           43|         60|   N|                N|\n",
            "| RWB6V9IYCOJFX|          4|           39|         41|   N|                Y|\n",
            "|R15FA7GCXKC7YE|          1|           40|         41|   N|                Y|\n",
            "|R2OQAI6AV8AH8Z|          1|           19|         32|   N|                Y|\n",
            "|R2XD5CWZ4Z87ZR|          5|           19|         25|   N|                Y|\n",
            "|R3LLBXVCEY5JKB|          1|           33|         35|   N|                Y|\n",
            "| RQWM8U7YH93TT|          4|           92|         93|   N|                N|\n",
            "|R2DEO6P7BEZ9UI|          5|           38|         38|   N|                Y|\n",
            "|R2CKYIHUSK3IEP|          1|           74|         88|   N|                Y|\n",
            "| RY0DMUQKNF8MT|          5|           32|         33|   N|                Y|\n",
            "+--------------+-----------+-------------+-----------+----+-----------------+\n",
            "only showing top 20 rows\n",
            "\n"
          ]
        }
      ]
    },
    {
      "cell_type": "code",
      "source": [
        "# Step - 2 - Filter the new DataFrame or table created in Step 1 and create a new DataFrame or table to retrieve all the rows where \n",
        "#            the number of helpful_votes divided by total_votes is equal to or greater than 50%.\n",
        "df_new_2=df_new_1.filter((df_new_1.helpful_votes)/(df_new_1.total_votes)>=0.5)\n",
        "df_new_2.show()"
      ],
      "metadata": {
        "colab": {
          "base_uri": "https://localhost:8080/"
        },
        "id": "Nz-I2Ctk1vm7",
        "outputId": "9882ec52-a6ff-402b-9e5d-fd8f3c4138b9"
      },
      "execution_count": 75,
      "outputs": [
        {
          "output_type": "stream",
          "name": "stdout",
          "text": [
            "+--------------+-----------+-------------+-----------+----+-----------------+\n",
            "|     review_id|star_rating|helpful_votes|total_votes|vine|verified_purchase|\n",
            "+--------------+-----------+-------------+-----------+----+-----------------+\n",
            "| RQQ3KVTU5TJ4I|          5|           24|         29|   N|                Y|\n",
            "|R3FELXWV9T5CWE|          2|           22|         24|   N|                Y|\n",
            "| ROBYK6EZYK398|          5|           29|         30|   N|                Y|\n",
            "|R2YVBBR6NXIA4V|          5|           25|         28|   N|                N|\n",
            "|R2AVTBDIVG2AW4|          5|           26|         26|   N|                N|\n",
            "|R1Z2LNN3FANMTO|          1|           20|         24|   N|                N|\n",
            "|  RLNULBKRWNNR|          5|           42|         43|   N|                Y|\n",
            "| R9QNQUL94RX1F|          3|           27|         33|   N|                Y|\n",
            "| RTULFZTUS1VBP|          5|           51|         52|   N|                Y|\n",
            "|R1BM9RBQWI62O2|          5|           43|         60|   N|                N|\n",
            "| RWB6V9IYCOJFX|          4|           39|         41|   N|                Y|\n",
            "|R15FA7GCXKC7YE|          1|           40|         41|   N|                Y|\n",
            "|R2OQAI6AV8AH8Z|          1|           19|         32|   N|                Y|\n",
            "|R2XD5CWZ4Z87ZR|          5|           19|         25|   N|                Y|\n",
            "|R3LLBXVCEY5JKB|          1|           33|         35|   N|                Y|\n",
            "| RQWM8U7YH93TT|          4|           92|         93|   N|                N|\n",
            "|R2DEO6P7BEZ9UI|          5|           38|         38|   N|                Y|\n",
            "|R2CKYIHUSK3IEP|          1|           74|         88|   N|                Y|\n",
            "| RY0DMUQKNF8MT|          5|           32|         33|   N|                Y|\n",
            "|R33XCAJDTPOUQS|          5|           22|         23|   N|                Y|\n",
            "+--------------+-----------+-------------+-----------+----+-----------------+\n",
            "only showing top 20 rows\n",
            "\n"
          ]
        }
      ]
    },
    {
      "cell_type": "code",
      "source": [
        "# Step 3 - Filter the DataFrame or table created in Step 2, and create a new DataFrame or table that \n",
        "#           retrieves all the rows where a review was written as part of the Vine program (paid), vine == 'Y'.\n",
        "df_new_3_paid_review = df_new_2.filter(df_new_2.vine == 'Y')\n",
        "df_new_3_paid_review.show()"
      ],
      "metadata": {
        "colab": {
          "base_uri": "https://localhost:8080/"
        },
        "id": "bPK9ZtEk1vp8",
        "outputId": "996f088f-9b00-4636-ffab-bfc1562c28f7"
      },
      "execution_count": 76,
      "outputs": [
        {
          "output_type": "stream",
          "name": "stdout",
          "text": [
            "+--------------+-----------+-------------+-----------+----+-----------------+\n",
            "|     review_id|star_rating|helpful_votes|total_votes|vine|verified_purchase|\n",
            "+--------------+-----------+-------------+-----------+----+-----------------+\n",
            "|R28DXTC3JQ9IY1|          4|           24|         26|   Y|                N|\n",
            "|R3AFZKLQXATHBU|          5|           44|         49|   Y|                N|\n",
            "|R2RUUF2JPJPC0E|          4|           20|         22|   Y|                N|\n",
            "| RFZ2WUH4248AB|          2|           26|         27|   Y|                N|\n",
            "|R1Q4LVHIFOWYFR|          5|           23|         28|   Y|                N|\n",
            "| R4YEPTQED3X1Q|          5|           19|         20|   Y|                N|\n",
            "|R2Z7C8YCRSC9DP|          5|           22|         22|   Y|                N|\n",
            "|R3J8OI5CB74P5K|          1|           22|         25|   Y|                N|\n",
            "| RH39LMKN6AZDC|          5|           33|         40|   Y|                N|\n",
            "| R8RD8K0ESJSRD|          5|           21|         21|   Y|                N|\n",
            "| R6P04SW0Z1FCR|          5|           20|         25|   Y|                N|\n",
            "|R32LMNP5ZU2F6G|          3|           33|         37|   Y|                N|\n",
            "|R21L9F1CIGVQ7H|          5|           35|         45|   Y|                N|\n",
            "|R3407EU7EKOUMA|          4|           31|         40|   Y|                N|\n",
            "| RDFMCB5Q7U0UW|          4|          152|        155|   Y|                N|\n",
            "|R2U38GEWPJG6JI|          5|           63|         66|   Y|                N|\n",
            "|R1E24YIQRGSP10|          5|           30|         40|   Y|                N|\n",
            "|R3L7PBHQGA3LB0|          3|           14|         20|   Y|                N|\n",
            "| R91BX5ZLRONPJ|          4|           16|         21|   Y|                N|\n",
            "|R1P31XRPGIF50W|          4|           33|         38|   Y|                N|\n",
            "+--------------+-----------+-------------+-----------+----+-----------------+\n",
            "only showing top 20 rows\n",
            "\n"
          ]
        }
      ]
    },
    {
      "cell_type": "code",
      "source": [
        "# Step - 4 - Repeat Step 3, but this time retrieve all the rows where the review was not part of the Vine program (unpaid), vine == 'N'.\n",
        "df_new_4_unpaid_review = df_new_2.filter(df_new_2.vine == 'N')\n",
        "df_new_4_unpaid_review.show()"
      ],
      "metadata": {
        "colab": {
          "base_uri": "https://localhost:8080/"
        },
        "id": "bS8yxELYAfrC",
        "outputId": "3a90c285-94ef-4aa6-a004-7c79e382b2be"
      },
      "execution_count": 77,
      "outputs": [
        {
          "output_type": "stream",
          "name": "stdout",
          "text": [
            "+--------------+-----------+-------------+-----------+----+-----------------+\n",
            "|     review_id|star_rating|helpful_votes|total_votes|vine|verified_purchase|\n",
            "+--------------+-----------+-------------+-----------+----+-----------------+\n",
            "| RQQ3KVTU5TJ4I|          5|           24|         29|   N|                Y|\n",
            "|R3FELXWV9T5CWE|          2|           22|         24|   N|                Y|\n",
            "| ROBYK6EZYK398|          5|           29|         30|   N|                Y|\n",
            "|R2YVBBR6NXIA4V|          5|           25|         28|   N|                N|\n",
            "|R2AVTBDIVG2AW4|          5|           26|         26|   N|                N|\n",
            "|R1Z2LNN3FANMTO|          1|           20|         24|   N|                N|\n",
            "|  RLNULBKRWNNR|          5|           42|         43|   N|                Y|\n",
            "| R9QNQUL94RX1F|          3|           27|         33|   N|                Y|\n",
            "| RTULFZTUS1VBP|          5|           51|         52|   N|                Y|\n",
            "|R1BM9RBQWI62O2|          5|           43|         60|   N|                N|\n",
            "| RWB6V9IYCOJFX|          4|           39|         41|   N|                Y|\n",
            "|R15FA7GCXKC7YE|          1|           40|         41|   N|                Y|\n",
            "|R2OQAI6AV8AH8Z|          1|           19|         32|   N|                Y|\n",
            "|R2XD5CWZ4Z87ZR|          5|           19|         25|   N|                Y|\n",
            "|R3LLBXVCEY5JKB|          1|           33|         35|   N|                Y|\n",
            "| RQWM8U7YH93TT|          4|           92|         93|   N|                N|\n",
            "|R2DEO6P7BEZ9UI|          5|           38|         38|   N|                Y|\n",
            "|R2CKYIHUSK3IEP|          1|           74|         88|   N|                Y|\n",
            "| RY0DMUQKNF8MT|          5|           32|         33|   N|                Y|\n",
            "|R33XCAJDTPOUQS|          5|           22|         23|   N|                Y|\n",
            "+--------------+-----------+-------------+-----------+----+-----------------+\n",
            "only showing top 20 rows\n",
            "\n"
          ]
        }
      ]
    },
    {
      "cell_type": "code",
      "source": [
        "#Step - 5a.1 - Determine total number of reviews\n",
        "total_reviews_count = vine_df.count()\n",
        "total_reviews_count"
      ],
      "metadata": {
        "colab": {
          "base_uri": "https://localhost:8080/"
        },
        "id": "pbZp3LFZDD-F",
        "outputId": "e098ea09-87b8-4943-8e8d-f6f5040ee312"
      },
      "execution_count": 78,
      "outputs": [
        {
          "output_type": "execute_result",
          "data": {
            "text/plain": [
              "2557288"
            ]
          },
          "metadata": {},
          "execution_count": 78
        }
      ]
    },
    {
      "cell_type": "code",
      "source": [
        "#Step - 5a.2 - Determine total number of paid reviews (VINE REVIEWS)\n",
        "total_paid_reviews_count = df_new_3_paid_review.count()\n",
        "total_paid_reviews_count"
      ],
      "metadata": {
        "colab": {
          "base_uri": "https://localhost:8080/"
        },
        "id": "gHtXievPDEBU",
        "outputId": "db098123-c935-4308-eb5b-010d31b1d7e6"
      },
      "execution_count": 79,
      "outputs": [
        {
          "output_type": "execute_result",
          "data": {
            "text/plain": [
              "386"
            ]
          },
          "metadata": {},
          "execution_count": 79
        }
      ]
    },
    {
      "cell_type": "code",
      "source": [
        "#Step - 5a.3 - Determine total number of unpaid reviews (NOT VINE REVIEWS)\n",
        "total_unpaid_reviews_count = df_new_4_unpaid_review.count()\n",
        "total_unpaid_reviews_count"
      ],
      "metadata": {
        "colab": {
          "base_uri": "https://localhost:8080/"
        },
        "id": "9hsc_e1rDEEJ",
        "outputId": "6f0150c0-150c-486a-b965-f9ca6aa05f72"
      },
      "execution_count": 80,
      "outputs": [
        {
          "output_type": "execute_result",
          "data": {
            "text/plain": [
              "48717"
            ]
          },
          "metadata": {},
          "execution_count": 80
        }
      ]
    },
    {
      "cell_type": "code",
      "source": [
        "#Step - 5b.1 - The number of 5-star reviews\n",
        "count_total_fivestars = vine_df.filter(vine_df.star_rating == 5).count()\n",
        "count_total_fivestars"
      ],
      "metadata": {
        "colab": {
          "base_uri": "https://localhost:8080/"
        },
        "id": "3NGcBJrFDEG_",
        "outputId": "bd7632ac-d8b4-4dc7-d993-de47f98b0922"
      },
      "execution_count": 81,
      "outputs": [
        {
          "output_type": "execute_result",
          "data": {
            "text/plain": [
              "1545893"
            ]
          },
          "metadata": {},
          "execution_count": 81
        }
      ]
    },
    {
      "cell_type": "code",
      "source": [
        "#Step - 5b.2 - The number of 5-star paid reviews (VINE REVIEWS)\n",
        "count_paid_fivestars = df_new_3_paid_review.filter(df_new_3_paid_review.star_rating == 5).count()\n",
        "count_paid_fivestars"
      ],
      "metadata": {
        "colab": {
          "base_uri": "https://localhost:8080/"
        },
        "id": "nP05iuY6LE3x",
        "outputId": "ea64aa15-7d39-4175-84f8-1004cfe8f380"
      },
      "execution_count": 82,
      "outputs": [
        {
          "output_type": "execute_result",
          "data": {
            "text/plain": [
              "176"
            ]
          },
          "metadata": {},
          "execution_count": 82
        }
      ]
    },
    {
      "cell_type": "code",
      "source": [
        "#Step - 5b.3 - The number of 5-star unpaid reviews (NOT VINE REVIEWS)\n",
        "count_unpaid_fivestars = df_new_4_unpaid_review.filter(df_new_4_unpaid_review.star_rating == 5).count()\n",
        "count_unpaid_fivestars"
      ],
      "metadata": {
        "colab": {
          "base_uri": "https://localhost:8080/"
        },
        "id": "M7wUEHl2N3Ko",
        "outputId": "ee03aeee-6a81-4ee8-94c4-09a7542f5ea0"
      },
      "execution_count": 83,
      "outputs": [
        {
          "output_type": "execute_result",
          "data": {
            "text/plain": [
              "24026"
            ]
          },
          "metadata": {},
          "execution_count": 83
        }
      ]
    },
    {
      "cell_type": "code",
      "source": [
        "total_pecentage=total_paid_reviews_count/total_paid_reviews_count*100\n",
        "total_pecentage"
      ],
      "metadata": {
        "colab": {
          "base_uri": "https://localhost:8080/"
        },
        "id": "GIjYZv2ISFAE",
        "outputId": "9a79b70d-6245-47ee-e510-dda65da97a8a"
      },
      "execution_count": 84,
      "outputs": [
        {
          "output_type": "execute_result",
          "data": {
            "text/plain": [
              "100.0"
            ]
          },
          "metadata": {},
          "execution_count": 84
        }
      ]
    },
    {
      "cell_type": "code",
      "source": [
        "#Step - 5c.1 - The percentage of 5-star paid reviews (VINE REVIEWS)\n",
        "paid_pecentage=count_paid_fivestars/count_total_fivestars*100\n",
        "paid_pecentage"
      ],
      "metadata": {
        "colab": {
          "base_uri": "https://localhost:8080/"
        },
        "id": "dTA9pUOZN3Nz",
        "outputId": "8a60aff8-3bb3-42de-a134-e392b68289a0"
      },
      "execution_count": 85,
      "outputs": [
        {
          "output_type": "execute_result",
          "data": {
            "text/plain": [
              "0.011385005301143093"
            ]
          },
          "metadata": {},
          "execution_count": 85
        }
      ]
    },
    {
      "cell_type": "code",
      "source": [
        "#Step - 5c.2 - The percentage of 5-star paid reviews (VINE REVIEWS)\n",
        "unpaid_pecentage=count_unpaid_fivestars/count_total_fivestars*100\n",
        "unpaid_pecentage"
      ],
      "metadata": {
        "colab": {
          "base_uri": "https://localhost:8080/"
        },
        "id": "EfRMQsxdN3dR",
        "outputId": "dd9b4750-cae3-4352-fa87-3feb230bbe52"
      },
      "execution_count": 86,
      "outputs": [
        {
          "output_type": "execute_result",
          "data": {
            "text/plain": [
              "1.5541825986662725"
            ]
          },
          "metadata": {},
          "execution_count": 86
        }
      ]
    },
    {
      "cell_type": "code",
      "source": [
        "#Summary dataframe \n",
        "dataframe = spark.createDataFrame([\n",
        "                                   (\"Total\", total_reviews_count, count_total_fivestars, total_pecentage),\n",
        "                                   (\"Vine(Paid) \", total_paid_reviews_count, count_paid_fivestars, paid_pecentage),\n",
        "                                   (\"Non-Vine(Unpaid)\", total_unpaid_reviews_count, count_unpaid_fivestars, unpaid_pecentage),\n",
        "], [\"Reviews\", \"Total Reviews\", \"Total 5-star Reviews\", \"Percentage of 5-star Reviews\"])\n",
        "\n",
        "dataframe.show()"
      ],
      "metadata": {
        "colab": {
          "base_uri": "https://localhost:8080/"
        },
        "id": "nX-sWhkZQdHp",
        "outputId": "3b3a2449-4a29-4ee5-9388-f35975cfa63a"
      },
      "execution_count": 87,
      "outputs": [
        {
          "output_type": "stream",
          "name": "stdout",
          "text": [
            "+----------------+-------------+--------------------+----------------------------+\n",
            "|         Reviews|Total Reviews|Total 5-star Reviews|Percentage of 5-star Reviews|\n",
            "+----------------+-------------+--------------------+----------------------------+\n",
            "|           Total|      2557288|             1545893|                       100.0|\n",
            "|     Vine(Paid) |          386|                 176|        0.011385005301143093|\n",
            "|Non-Vine(Unpaid)|        48717|               24026|          1.5541825986662725|\n",
            "+----------------+-------------+--------------------+----------------------------+\n",
            "\n"
          ]
        }
      ]
    },
    {
      "cell_type": "code",
      "source": [
        "# Convert PySpark DataFrame to Pandas DataFrame\n",
        "import pandas as pd\n",
        "pandas_df = dataframe.toPandas()\n",
        "pandas_df"
      ],
      "metadata": {
        "colab": {
          "base_uri": "https://localhost:8080/",
          "height": 143
        },
        "id": "brzTCZCYQdKP",
        "outputId": "c9b7d7ef-7300-4bda-f3c3-6e43f1d20066"
      },
      "execution_count": 88,
      "outputs": [
        {
          "output_type": "execute_result",
          "data": {
            "text/plain": [
              "            Reviews  Total Reviews  Total 5-star Reviews  \\\n",
              "0             Total        2557288               1545893   \n",
              "1       Vine(Paid)             386                   176   \n",
              "2  Non-Vine(Unpaid)          48717                 24026   \n",
              "\n",
              "   Percentage of 5-star Reviews  \n",
              "0                    100.000000  \n",
              "1                      0.011385  \n",
              "2                      1.554183  "
            ],
            "text/html": [
              "\n",
              "  <div id=\"df-c53ded21-63c5-4469-a948-9f2071c7f4c3\">\n",
              "    <div class=\"colab-df-container\">\n",
              "      <div>\n",
              "<style scoped>\n",
              "    .dataframe tbody tr th:only-of-type {\n",
              "        vertical-align: middle;\n",
              "    }\n",
              "\n",
              "    .dataframe tbody tr th {\n",
              "        vertical-align: top;\n",
              "    }\n",
              "\n",
              "    .dataframe thead th {\n",
              "        text-align: right;\n",
              "    }\n",
              "</style>\n",
              "<table border=\"1\" class=\"dataframe\">\n",
              "  <thead>\n",
              "    <tr style=\"text-align: right;\">\n",
              "      <th></th>\n",
              "      <th>Reviews</th>\n",
              "      <th>Total Reviews</th>\n",
              "      <th>Total 5-star Reviews</th>\n",
              "      <th>Percentage of 5-star Reviews</th>\n",
              "    </tr>\n",
              "  </thead>\n",
              "  <tbody>\n",
              "    <tr>\n",
              "      <th>0</th>\n",
              "      <td>Total</td>\n",
              "      <td>2557288</td>\n",
              "      <td>1545893</td>\n",
              "      <td>100.000000</td>\n",
              "    </tr>\n",
              "    <tr>\n",
              "      <th>1</th>\n",
              "      <td>Vine(Paid)</td>\n",
              "      <td>386</td>\n",
              "      <td>176</td>\n",
              "      <td>0.011385</td>\n",
              "    </tr>\n",
              "    <tr>\n",
              "      <th>2</th>\n",
              "      <td>Non-Vine(Unpaid)</td>\n",
              "      <td>48717</td>\n",
              "      <td>24026</td>\n",
              "      <td>1.554183</td>\n",
              "    </tr>\n",
              "  </tbody>\n",
              "</table>\n",
              "</div>\n",
              "      <button class=\"colab-df-convert\" onclick=\"convertToInteractive('df-c53ded21-63c5-4469-a948-9f2071c7f4c3')\"\n",
              "              title=\"Convert this dataframe to an interactive table.\"\n",
              "              style=\"display:none;\">\n",
              "        \n",
              "  <svg xmlns=\"http://www.w3.org/2000/svg\" height=\"24px\"viewBox=\"0 0 24 24\"\n",
              "       width=\"24px\">\n",
              "    <path d=\"M0 0h24v24H0V0z\" fill=\"none\"/>\n",
              "    <path d=\"M18.56 5.44l.94 2.06.94-2.06 2.06-.94-2.06-.94-.94-2.06-.94 2.06-2.06.94zm-11 1L8.5 8.5l.94-2.06 2.06-.94-2.06-.94L8.5 2.5l-.94 2.06-2.06.94zm10 10l.94 2.06.94-2.06 2.06-.94-2.06-.94-.94-2.06-.94 2.06-2.06.94z\"/><path d=\"M17.41 7.96l-1.37-1.37c-.4-.4-.92-.59-1.43-.59-.52 0-1.04.2-1.43.59L10.3 9.45l-7.72 7.72c-.78.78-.78 2.05 0 2.83L4 21.41c.39.39.9.59 1.41.59.51 0 1.02-.2 1.41-.59l7.78-7.78 2.81-2.81c.8-.78.8-2.07 0-2.86zM5.41 20L4 18.59l7.72-7.72 1.47 1.35L5.41 20z\"/>\n",
              "  </svg>\n",
              "      </button>\n",
              "      \n",
              "  <style>\n",
              "    .colab-df-container {\n",
              "      display:flex;\n",
              "      flex-wrap:wrap;\n",
              "      gap: 12px;\n",
              "    }\n",
              "\n",
              "    .colab-df-convert {\n",
              "      background-color: #E8F0FE;\n",
              "      border: none;\n",
              "      border-radius: 50%;\n",
              "      cursor: pointer;\n",
              "      display: none;\n",
              "      fill: #1967D2;\n",
              "      height: 32px;\n",
              "      padding: 0 0 0 0;\n",
              "      width: 32px;\n",
              "    }\n",
              "\n",
              "    .colab-df-convert:hover {\n",
              "      background-color: #E2EBFA;\n",
              "      box-shadow: 0px 1px 2px rgba(60, 64, 67, 0.3), 0px 1px 3px 1px rgba(60, 64, 67, 0.15);\n",
              "      fill: #174EA6;\n",
              "    }\n",
              "\n",
              "    [theme=dark] .colab-df-convert {\n",
              "      background-color: #3B4455;\n",
              "      fill: #D2E3FC;\n",
              "    }\n",
              "\n",
              "    [theme=dark] .colab-df-convert:hover {\n",
              "      background-color: #434B5C;\n",
              "      box-shadow: 0px 1px 3px 1px rgba(0, 0, 0, 0.15);\n",
              "      filter: drop-shadow(0px 1px 2px rgba(0, 0, 0, 0.3));\n",
              "      fill: #FFFFFF;\n",
              "    }\n",
              "  </style>\n",
              "\n",
              "      <script>\n",
              "        const buttonEl =\n",
              "          document.querySelector('#df-c53ded21-63c5-4469-a948-9f2071c7f4c3 button.colab-df-convert');\n",
              "        buttonEl.style.display =\n",
              "          google.colab.kernel.accessAllowed ? 'block' : 'none';\n",
              "\n",
              "        async function convertToInteractive(key) {\n",
              "          const element = document.querySelector('#df-c53ded21-63c5-4469-a948-9f2071c7f4c3');\n",
              "          const dataTable =\n",
              "            await google.colab.kernel.invokeFunction('convertToInteractive',\n",
              "                                                     [key], {});\n",
              "          if (!dataTable) return;\n",
              "\n",
              "          const docLinkHtml = 'Like what you see? Visit the ' +\n",
              "            '<a target=\"_blank\" href=https://colab.research.google.com/notebooks/data_table.ipynb>data table notebook</a>'\n",
              "            + ' to learn more about interactive tables.';\n",
              "          element.innerHTML = '';\n",
              "          dataTable['output_type'] = 'display_data';\n",
              "          await google.colab.output.renderOutput(dataTable, element);\n",
              "          const docLink = document.createElement('div');\n",
              "          docLink.innerHTML = docLinkHtml;\n",
              "          element.appendChild(docLink);\n",
              "        }\n",
              "      </script>\n",
              "    </div>\n",
              "  </div>\n",
              "  "
            ]
          },
          "metadata": {},
          "execution_count": 88
        }
      ]
    },
    {
      "cell_type": "code",
      "source": [
        ""
      ],
      "metadata": {
        "id": "w0SIVuFBUl2k"
      },
      "execution_count": null,
      "outputs": []
    }
  ]
}